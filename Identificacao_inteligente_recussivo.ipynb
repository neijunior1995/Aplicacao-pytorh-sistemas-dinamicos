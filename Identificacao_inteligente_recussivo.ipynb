{
 "cells": [
  {
   "cell_type": "markdown",
   "id": "843e21bd",
   "metadata": {},
   "source": [
    "<h1><center>Identificação de sistemas de segunda ordem utilizando redes neurais da bliblioteca pytorch</center></h1>\n",
    "\n",
    "By: Nei Junior da Silva Farias"
   ]
  },
  {
   "cell_type": "markdown",
   "id": "a246815b",
   "metadata": {},
   "source": [
    "# Importação das bicliotecas utilizadas"
   ]
  },
  {
   "cell_type": "code",
   "execution_count": 22,
   "id": "7c7c3dfa",
   "metadata": {},
   "outputs": [],
   "source": [
    "import torch                         # Biblioteca de redes neurais utilizada\n",
    "from torch import nn, optim                # Importação do componente de geração, treinamento e teste da rede\n",
    "import numpy as np\n",
    "from numpy.random import normal      # Import do gerador de sinal aleatório\n",
    "from scipy.integrate import odeint   # Import do integrador utilizado para simular o sistema identificado\n",
    "import matplotlib.pyplot as plt      # Import da biblioteca para plot de gráficos\n",
    "from torch.utils.data import Dataset, DataLoader"
   ]
  },
  {
   "cell_type": "markdown",
   "id": "bb863118",
   "metadata": {},
   "source": [
    "# Representação de sistemas de segunda Ordem"
   ]
  },
  {
   "cell_type": "markdown",
   "id": "4e2041ff",
   "metadata": {},
   "source": [
    "Os sistemas de segunda ordem pode ser representados pela função de transferência:\n",
    "\n",
    "<h2><center>\n",
    "    $G(s)=\\frac{y(t)}{u(t)} = \\frac{\\omega_0^2}{s^2+2\\zeta\\omega s + \\omega_0^2}$\n",
    "</h2></center>\n",
    "\n",
    "A representação diferencial da função de transferência pode ser dada por:\n",
    "\n",
    "<h2><center>\n",
    "    $\\frac{d^2y(t)}{dt^2} + 2\\zeta\\omega \\frac{dy(t)}{dt} +\\omega_0^2y(t) = \\omega_0^2u(t)$\n",
    "</h2></center>\n",
    "\n",
    "A escolhermos as variáveis de estados $x_1 = y(t)$ e $x_2 = \\frac{dy(t)}{dt}$ o sistema pode ser reescrito como:\n",
    "\n",
    "<h2><center>\n",
    "    $\\begin{matrix}\n",
    "    \\dot{x}_1 = x_2 \\\\\n",
    "    \\dot{x}_2= - 2\\zeta\\omega x_2 - \\omega_0^2x_1 + \\omega_0^2u(t)\n",
    "    \\end{matrix}$\n",
    "</h2></center>\n",
    "\n",
    "Onde:\n",
    "\n",
    "<h2><center>\n",
    "    $\\begin{matrix}\n",
    "    y(t) = x_1(t)\n",
    "    \\end{matrix}$\n",
    "</h2></center>"
   ]
  },
  {
   "cell_type": "markdown",
   "id": "fcb13c9a",
   "metadata": {},
   "source": [
    "## Classe de sistema de segunda ordem pytho"
   ]
  },
  {
   "cell_type": "code",
   "execution_count": 84,
   "id": "54e2e20a",
   "metadata": {},
   "outputs": [],
   "source": [
    "class modelo_de_segunda_ordem:\n",
    "    def __init__(self,zeta,w0):\n",
    "        self.zeta = zeta\n",
    "        self.w0 = w0\n",
    "    def model(self,z0 ,t_estp,u):\n",
    "        x1 = z0[0]\n",
    "        x2 = z0[1]\n",
    "        dx1dt = x2\n",
    "        dx2dt = -(2*self.zeta)*x2-(self.w0**2)*x1 + self.w0**2*u\n",
    "        dzdt = [dx1dt,dx2dt]\n",
    "        return dzdt\n",
    "    def simulacao(self,z0,t_estp,u):\n",
    "        return odeint(self.model,z0,t_estp,args = (u,))"
   ]
  },
  {
   "cell_type": "markdown",
   "id": "ce271c30",
   "metadata": {},
   "source": [
    "### Obteção do coeficiente de amortecimento e frequência de oscilação"
   ]
  },
  {
   "cell_type": "code",
   "execution_count": 85,
   "id": "d5a65716",
   "metadata": {},
   "outputs": [],
   "source": [
    "tempo_de_acomodacao = 3; # tempo em segundos\n",
    "maximo_sobressinal = 10; # Em porcentos\n",
    "zeta = (-np.log(maximo_sobressinal/100))/(np.sqrt((np.pi)**2+np.log(maximo_sobressinal/100)**2))\n",
    "w0 = 3/(zeta*tempo_de_acomodacao)"
   ]
  },
  {
   "cell_type": "code",
   "execution_count": 86,
   "id": "96cbef08",
   "metadata": {},
   "outputs": [
    {
     "data": {
      "image/png": "[encoded data removed]",
      "text/plain": [
       "<Figure size 432x288 with 1 Axes>"
      ]
     },
     "metadata": {
      "needs_background": "light"
     },
     "output_type": "display_data"
    }
   ],
   "source": [
    "modelo_2_ordem = modelo_de_segunda_ordem(zeta = zeta, w0 = w0)\n",
    "\n",
    "tprint =  np.linspace(0,10,50)\n",
    "z0 = [0,0] # Condição inicial\n",
    "degrau = 1;\n",
    "z = modelo_2_ordem.simulacao(z0 = z0, t_estp = tprint, u = degrau)\n",
    "x1 = z[:,0]\n",
    "x2 = z[:,1]\n",
    "plt.plot(tprint,x1,'b--',linewidth=2,label='x1')\n",
    "plt.plot(tprint,x2,'g:',linewidth=2,label='x2')\n",
    "plt.xlabel('tempo')\n",
    "plt.ylabel('Estados')\n",
    "plt.legend()\n",
    "plt.grid(True)\n",
    "plt.show()\n",
    "\n"
   ]
  },
  {
   "cell_type": "markdown",
   "id": "325d55c5",
   "metadata": {},
   "source": [
    "## Definição do modelo de referência de primeira ordem"
   ]
  },
  {
   "cell_type": "markdown",
   "id": "a787141c",
   "metadata": {},
   "source": [
    "<h2><center>\n",
    "    $G_r(s)=\\frac{y_r(t)}{u_r(t)} = \\frac{K}{\\tau s + 1}$\n",
    "</h2></center>\n",
    "\n",
    "Onde:\n",
    "\n",
    "* $K$ é o ganho do modelo de referência;\n",
    "* $\\tau$ é a constante de tempo do modelo."
   ]
  },
  {
   "cell_type": "markdown",
   "id": "a994b2c4",
   "metadata": {},
   "source": [
    "O modelo em espaços de estados pode ser obtido como:\n",
    "\n",
    "<h2><center>\n",
    "    $\\dot{y}(t) =-\\frac{y(t)}{\\tau}+\\frac{Ku_r(t)}{\\tau} $ \n",
    "</h2></center>"
   ]
  },
  {
   "cell_type": "code",
   "execution_count": null,
   "id": "33ffae9e",
   "metadata": {},
   "outputs": [],
   "source": [
    "class modelo_de_primeira_ordem:\n",
    "    def __init__(self,K,tau):\n",
    "        self.K   = K\n",
    "        self.tau = tau\n",
    "    def simulacao(z,t_estp,u):\n",
    "        x1 = z[0]\n",
    "        x2 = z[1]\n",
    "        dx1dt = x2\n",
    "        dx2dt = -(2*self.zeta)*x2-(self.w0**2)*x1 + self.w0**2*u\n",
    "        dzdt = [dx1dt,dx2dt]\n",
    "        return dzdt"
   ]
  }
 ],
 "metadata": {
  "kernelspec": {
   "display_name": "Python 3 (ipykernel)",
   "language": "python",
   "name": "python3"
  },
  "language_info": {
   "codemirror_mode": {
    "name": "ipython",
    "version": 3
   },
   "file_extension": ".py",
   "mimetype": "text/x-python",
   "name": "python",
   "nbconvert_exporter": "python",
   "pygments_lexer": "ipython3",
   "version": "3.9.7"
  }
 },
 "nbformat": 4,
 "nbformat_minor": 5
}
